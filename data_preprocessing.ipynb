{
 "cells": [
  {
   "cell_type": "code",
   "execution_count": 18,
   "metadata": {},
   "outputs": [],
   "source": [
    "import pandas as pd\n",
    "import re\n",
    "import wordsegment as ws"
   ]
  },
  {
   "cell_type": "code",
   "execution_count": 3,
   "metadata": {},
   "outputs": [
    {
     "data": {
      "text/html": [
       "<div>\n",
       "<style scoped>\n",
       "    .dataframe tbody tr th:only-of-type {\n",
       "        vertical-align: middle;\n",
       "    }\n",
       "\n",
       "    .dataframe tbody tr th {\n",
       "        vertical-align: top;\n",
       "    }\n",
       "\n",
       "    .dataframe thead th {\n",
       "        text-align: right;\n",
       "    }\n",
       "</style>\n",
       "<table border=\"1\" class=\"dataframe\">\n",
       "  <thead>\n",
       "    <tr style=\"text-align: right;\">\n",
       "      <th></th>\n",
       "      <th>tweet</th>\n",
       "      <th>location</th>\n",
       "      <th>cuban_variant</th>\n",
       "      <th>specific_variant</th>\n",
       "      <th>not-cuban</th>\n",
       "      <th>not able to identify</th>\n",
       "      <th>irrelevant</th>\n",
       "    </tr>\n",
       "  </thead>\n",
       "  <tbody>\n",
       "    <tr>\n",
       "      <th>0</th>\n",
       "      <td>@Ivan_truck78 Buenos días. Que tengas un buen ...</td>\n",
       "      <td>Madrid, Reino de España</td>\n",
       "      <td>False</td>\n",
       "      <td>NaN</td>\n",
       "      <td>False</td>\n",
       "      <td>True</td>\n",
       "      <td>False</td>\n",
       "    </tr>\n",
       "    <tr>\n",
       "      <th>1</th>\n",
       "      <td>Desde #Miami me pasa este video @edgard_simon ...</td>\n",
       "      <td>NaN</td>\n",
       "      <td>True</td>\n",
       "      <td>NaN</td>\n",
       "      <td>False</td>\n",
       "      <td>False</td>\n",
       "      <td>False</td>\n",
       "    </tr>\n",
       "    <tr>\n",
       "      <th>2</th>\n",
       "      <td>@F1NE28LT @LT91S0TT Pero</td>\n",
       "      <td>louis</td>\n",
       "      <td>False</td>\n",
       "      <td>NaN</td>\n",
       "      <td>False</td>\n",
       "      <td>False</td>\n",
       "      <td>True</td>\n",
       "    </tr>\n",
       "    <tr>\n",
       "      <th>3</th>\n",
       "      <td>Me puedo imaginar lo triste que debe ser no co...</td>\n",
       "      <td>Puebla-México</td>\n",
       "      <td>False</td>\n",
       "      <td>Mexico</td>\n",
       "      <td>True</td>\n",
       "      <td>False</td>\n",
       "      <td>False</td>\n",
       "    </tr>\n",
       "    <tr>\n",
       "      <th>4</th>\n",
       "      <td>@rainxmy Según santogoogle significa antes de ...</td>\n",
       "      <td>NaN</td>\n",
       "      <td>False</td>\n",
       "      <td>NaN</td>\n",
       "      <td>False</td>\n",
       "      <td>False</td>\n",
       "      <td>False</td>\n",
       "    </tr>\n",
       "  </tbody>\n",
       "</table>\n",
       "</div>"
      ],
      "text/plain": [
       "                                               tweet                 location  \\\n",
       "0  @Ivan_truck78 Buenos días. Que tengas un buen ...  Madrid, Reino de España   \n",
       "1  Desde #Miami me pasa este video @edgard_simon ...                      NaN   \n",
       "2                           @F1NE28LT @LT91S0TT Pero                    louis   \n",
       "3  Me puedo imaginar lo triste que debe ser no co...            Puebla-México   \n",
       "4  @rainxmy Según santogoogle significa antes de ...                      NaN   \n",
       "\n",
       "   cuban_variant specific_variant  not-cuban  not able to identify  irrelevant  \n",
       "0          False              NaN      False                  True       False  \n",
       "1           True              NaN      False                 False       False  \n",
       "2          False              NaN      False                 False        True  \n",
       "3          False           Mexico       True                 False       False  \n",
       "4          False              NaN      False                 False       False  "
      ]
     },
     "execution_count": 3,
     "metadata": {},
     "output_type": "execute_result"
    }
   ],
   "source": [
    "df = pd.read_csv('data/random_spanish_tweets.csv')\n",
    "df.head()"
   ]
  },
  {
   "cell_type": "code",
   "execution_count": 25,
   "metadata": {},
   "outputs": [],
   "source": [
    "def apply_user_anonymizer(tweet_content):\n",
    "    \"\"\"\n",
    "    This function receive a tweet content and return the same content with all the mentions with the string @user\n",
    "    input: tweet_content (str)\n",
    "    output: tweet_content (str) after replacing all the mentions with @user\n",
    "    \"\"\"\n",
    "    return re.sub(r'@(\\w+)', '@user', tweet_content)\n",
    "\n",
    "def apply_url_standarizer(tweet_content):\n",
    "    \"\"\"\n",
    "    This function receive a tweet content and return the same content with all the urls with the string http://url\n",
    "    input: tweet_content (str)\n",
    "    output: tweet_content (str) after replacing all the urls with http://url\n",
    "    \"\"\"\n",
    "    return re.sub(r'http\\S+', 'url', tweet_content)\n",
    "\n",
    "def apply_hashtag_segmentation(tweet_content):\n",
    "    \"\"\"\n",
    "    This function receive a tweet content and return the same content with all the hashtags segmented\n",
    "    input: tweet_content (str)\n",
    "    output: tweet_content (str) after segmenting all the hashtags\n",
    "    \"\"\"\n",
    "    ws.load()\n",
    "    return re.sub(r'#(\\w+)', lambda x: ' '.join(ws.segment(x.group(1))), tweet_content)"
   ]
  },
  {
   "cell_type": "code",
   "execution_count": 11,
   "metadata": {},
   "outputs": [
    {
     "data": {
      "text/plain": [
       "'@user is a great person and @user is a great friend'"
      ]
     },
     "execution_count": 11,
     "metadata": {},
     "output_type": "execute_result"
    }
   ],
   "source": [
    "apply_user_anonymizer('@EsteUSUARIO is a great person and @AquelUsuario is a great friend')"
   ]
  },
  {
   "cell_type": "code",
   "execution_count": 14,
   "metadata": {},
   "outputs": [
    {
     "data": {
      "text/plain": [
       "'I love this song url'"
      ]
     },
     "execution_count": 14,
     "metadata": {},
     "output_type": "execute_result"
    }
   ],
   "source": [
    "apply_url_standarizer('I love this song http://www.youtube.com/estacancion')"
   ]
  },
  {
   "cell_type": "code",
   "execution_count": 13,
   "metadata": {},
   "outputs": [
    {
     "data": {
      "text/plain": [
       "'I love this song url'"
      ]
     },
     "execution_count": 13,
     "metadata": {},
     "output_type": "execute_result"
    }
   ],
   "source": [
    "apply_url_standarizer('I love this song https://www.youtube.com/estacancion')"
   ]
  },
  {
   "cell_type": "code",
   "execution_count": 27,
   "metadata": {},
   "outputs": [
    {
     "data": {
      "text/plain": [
       "'Me gusta mucho esta cancion de pablo milanes'"
      ]
     },
     "execution_count": 27,
     "metadata": {},
     "output_type": "execute_result"
    }
   ],
   "source": [
    "apply_hashtag_segmentation('Me gusta mucho esta #canciondePabloMilanes')"
   ]
  },
  {
   "cell_type": "code",
   "execution_count": 40,
   "metadata": {},
   "outputs": [
    {
     "data": {
      "text/plain": [
       "'sos matanzas'"
      ]
     },
     "execution_count": 40,
     "metadata": {},
     "output_type": "execute_result"
    }
   ],
   "source": [
    "apply_hashtag_segmentation(\"#SOSMatanzas\")"
   ]
  }
 ],
 "metadata": {
  "kernelspec": {
   "display_name": "ALMAnaCH",
   "language": "python",
   "name": "python3"
  },
  "language_info": {
   "codemirror_mode": {
    "name": "ipython",
    "version": 3
   },
   "file_extension": ".py",
   "mimetype": "text/x-python",
   "name": "python",
   "nbconvert_exporter": "python",
   "pygments_lexer": "ipython3",
   "version": "3.10.14"
  }
 },
 "nbformat": 4,
 "nbformat_minor": 2
}
